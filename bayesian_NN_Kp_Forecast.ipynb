{
 "cells": [
  {
   "cell_type": "markdown",
   "metadata": {},
   "source": [
    "### Bayesian Neural Network for Kp Prediction\n"
   ]
  },
  {
   "cell_type": "code",
   "execution_count": null,
   "metadata": {},
   "outputs": [],
   "source": [
    "import tensorflow as tf\n",
    "import tensorflow_probability as tfp\n",
    "import pandas as pd\n",
    "import numpy as np\n"
   ]
  },
  {
   "cell_type": "code",
   "execution_count": null,
   "metadata": {},
   "outputs": [],
   "source": [
    "data = pd.read_csv(\"data/dsc_fc_summed_spectra_2023_v01 2.csv\", \\\n",
    "delimiter = ',', parse_dates=[0], \\\n",
    "infer_datetime_format=True, na_values='0', \\\n",
    "header = None)\n",
    "\n",
    "data[0] = pd.to_datetime(data[0], format='%Y-%m-%d %H:%M:%S')\n",
    "\n",
    "# Set date column as index\n",
    "data.set_index(0, inplace=True)\n",
    "\n",
    "# Resample and calculate mean for each hour\n",
    "hourly_data = data.resample('H').mean()\n",
    "\n",
    "kp_data = pd.read_csv(\"KP Data.csv\")\n",
    "\n",
    "# Assuming that 'day' column represents the day of the year (1-365/366), convert it to a proper datetime object\n",
    "kp_data['date'] = kp_data.apply(lambda row: pd.Timestamp(year=int(row['Year']), month=1, day=1) + pd.Timedelta(days=int(row['Day'])-1, hours=int(row['Hour'])), axis=1)\n",
    "\n",
    "# Set the new 'date' column as the index\n",
    "kp_data.set_index('date', inplace=True)\n",
    "\n",
    "hourly_data_2023 = hourly_data.loc['2023']\n",
    "kp_data_2023 = kp_data.loc['2023']\n",
    "\n",
    "data = merged_data = pd.merge(hourly_data_2023, kp_data_2023['Kp'], left_index=True, right_index=True, how='left')\n",
    "merged_data_imputed = merged_data.fillna(merged_data.median()) #Impute missing values with median \n",
    "\n",
    "df = merged_data_imputed"
   ]
  },
  {
   "cell_type": "code",
   "execution_count": null,
   "metadata": {},
   "outputs": [],
   "source": [
    "# Extracting features and target\n",
    "X = df.iloc[:, 3:53].values  # Columns 4-53 as features\n",
    "y = df['Kp'].values    # Kp index as target\n",
    "\n",
    "# Split the data into train and test sets\n",
    "from sklearn.model_selection import train_test_split\n",
    "X_train, X_test, y_train, y_test = train_test_split(X, y, test_size=0.2, random_state=42)\n",
    "\n",
    "print(X_train)\n",
    "\n",
    "#Standardize the data (very important for neural networks)\n",
    "from sklearn.preprocessing import StandardScaler\n",
    "scaler_X = StandardScaler().fit(X_train)\n",
    "X_train = scaler_X.transform(X_train)\n",
    "X_test = scaler_X.transform(X_test)\n",
    "\n"
   ]
  },
  {
   "cell_type": "markdown",
   "metadata": {},
   "source": [
    "### Design Model"
   ]
  },
  {
   "cell_type": "code",
   "execution_count": null,
   "metadata": {},
   "outputs": [],
   "source": [
    "# Define the model\n",
    "def build_bayesian_model(input_shape):\n",
    "    model = tf.keras.Sequential([\n",
    "        tf.keras.layers.Input(shape=(input_shape,)),\n",
    "        tfp.layers.DenseVariational(100, activation='relu', make_prior_fn=prior, make_posterior_fn=posterior),\n",
    "        tfp.layers.DenseVariational(20, activation='relu', make_prior_fn=prior, make_posterior_fn=posterior),\n",
    "        tfp.layers.DenseVariational(10, activation='relu', make_prior_fn=prior, make_posterior_fn=posterior),\n",
    "        tfp.layers.DenseVariational(5, activation='relu', make_prior_fn=prior, make_posterior_fn=posterior),\n",
    "        tfp.layers.DenseVariational(1, make_prior_fn=prior, make_posterior_fn=posterior)\n",
    "    ])\n",
    "    return model\n",
    "\n",
    "# Define prior\n",
    "def prior(kernel_size, bias_size=0, dtype=None):\n",
    "    n = kernel_size + bias_size\n",
    "    return lambda t: tfp.distributions.Independent(\n",
    "        tfp.distributions.Normal(loc=tf.zeros(n, dtype=dtype), scale=1),\n",
    "        reinterpreted_batch_ndims=1)\n",
    "\n",
    "# Define posterior\n",
    "def posterior(kernel_size, bias_size=0, dtype=None):\n",
    "    n = kernel_size + bias_size\n",
    "    return tf.keras.Sequential([\n",
    "        tfp.layers.VariableLayer(2 * n, dtype=dtype),\n",
    "        tfp.layers.DistributionLambda(lambda t: tfp.distributions.Independent(\n",
    "            tfp.distributions.Normal(loc=t[..., :n],\n",
    "                                     scale=tf.nn.softplus(t[..., n:])),\n",
    "            reinterpreted_batch_ndims=1)),\n",
    "    ])\n",
    "\n",
    "# Set units variable, which is required in prior and posterior functions\n",
    "units = 2000\n",
    "\n",
    "# Build the model\n",
    "model = build_bayesian_model(X_train.shape[1])\n",
    "\n",
    "# Compile the model\n",
    "model.compile(optimizer=tf.keras.optimizers.legacy.Adam(learning_rate=0.000001), loss='mean_squared_error')\n"
   ]
  },
  {
   "cell_type": "code",
   "execution_count": null,
   "metadata": {},
   "outputs": [],
   "source": [
    "history = model.fit(X_train, y_train, epochs=100, verbose=1, validation_split=0.1)"
   ]
  },
  {
   "cell_type": "code",
   "execution_count": null,
   "metadata": {},
   "outputs": [],
   "source": [
    "# Get samples from the posterior and predict\n",
    "n_samples = 100\n",
    "predicted = [model(X_test) for _ in range(n_samples)]\n",
    "\n",
    "# Compute mean and standard deviation of predictions\n",
    "predicted_mean = np.mean(predicted, axis=0)\n",
    "predicted_std = np.std(predicted, axis=0)"
   ]
  },
  {
   "cell_type": "code",
   "execution_count": null,
   "metadata": {},
   "outputs": [],
   "source": [
    "import matplotlib.pyplot as plt\n",
    "import seaborn as sns\n",
    "\n",
    "# Assuming `predicted_mean` is a numpy array or list containing the predicted Kp values\n",
    "# and y_test is your test set actual Kp values.\n",
    "predicted_mean = np.squeeze(predicted_mean)  # Ensure predictions are 1D\n",
    "\n",
    "plt.figure(figsize=(10, 6))\n",
    "sns.scatterplot(x=y_test, y=predicted_mean)\n",
    "plt.plot([min(y_test), max(y_test)], [min(y_test), max(y_test)], color='red')  # Diagonal line\n",
    "plt.xlabel('Actual Kp')\n",
    "plt.ylabel('Predicted Kp')\n",
    "plt.title('Actual vs. Predicted Kp Values')\n",
    "plt.show()"
   ]
  }
 ],
 "metadata": {
  "language_info": {
   "name": "python"
  },
  "orig_nbformat": 4
 },
 "nbformat": 4,
 "nbformat_minor": 2
}
